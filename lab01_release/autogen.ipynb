{
 "cells": [
  {
   "cell_type": "code",
   "execution_count": 1,
   "metadata": {},
   "outputs": [
    {
     "name": "stdout",
     "output_type": "stream",
     "text": [
      "hello\n"
     ]
    }
   ],
   "source": [
    "print(\"hello\")"
   ]
  },
  {
   "cell_type": "code",
   "execution_count": 5,
   "metadata": {},
   "outputs": [
    {
     "name": "stderr",
     "output_type": "stream",
     "text": [
      "0.00s - Debugger warning: It seems that frozen modules are being used, which may\n",
      "0.00s - make the debugger miss breakpoints. Please pass -Xfrozen_modules=off\n",
      "0.00s - to python to disable frozen modules.\n",
      "0.00s - Note: Debugging will proceed. Set PYDEVD_DISABLE_FILE_VALIDATION=1 to disable this validation.\n"
     ]
    }
   ],
   "source": [
    "from autogen import UserProxyAgent\n",
    "\n",
    "proxy = UserProxyAgent(name=\"proxy\", code_execution_config={\"executor\": \"ipython-embedded\"})"
   ]
  },
  {
   "cell_type": "code",
   "execution_count": 2,
   "metadata": {},
   "outputs": [],
   "source": [
    "import os\n",
    "\n",
    "from autogen import ConversableAgent\n",
    "\n",
    "agent = ConversableAgent(\n",
    "    \"chatbot\",\n",
    "    llm_config={\"config_list\": [{\"model\": \"gpt-4o-mini\", \"api_key\": os.environ[\"OPENAI_API_KEY\"]}]},\n",
    "    code_execution_config=False,  # Turn off code execution, by default it is off.\n",
    "    function_map=None,  # No registered functions, by default it is None.\n",
    "    human_input_mode=\"NEVER\",  # Never ask for human input.\n",
    ")"
   ]
  },
  {
   "cell_type": "code",
   "execution_count": 3,
   "metadata": {},
   "outputs": [
    {
     "name": "stdout",
     "output_type": "stream",
     "text": [
      "Why did the California girl bring a ladder to the bar?\n",
      "\n",
      "Because she heard the drinks were on the house!\n"
     ]
    }
   ],
   "source": [
    "reply = agent.generate_reply(messages=[{\"content\": \"Tell me a joke about California girls.\", \"role\": \"user\"}])\n",
    "print(reply)"
   ]
  },
  {
   "cell_type": "code",
   "execution_count": 7,
   "metadata": {},
   "outputs": [
    {
     "name": "stdout",
     "output_type": "stream",
     "text": [
      "\u001b[33magent_with_number\u001b[0m (to agent_guess_number):\n",
      "\n",
      "I have a number between 1 and 100. Guess it!\n",
      "\n",
      "--------------------------------------------------------------------------------\n",
      "\u001b[33magent_guess_number\u001b[0m (to agent_with_number):\n",
      "\n",
      "Is it 50?\n",
      "\n",
      "--------------------------------------------------------------------------------\n",
      "\u001b[31m\n",
      ">>>>>>>> USING AUTO REPLY...\u001b[0m\n",
      "\u001b[33magent_with_number\u001b[0m (to agent_guess_number):\n",
      "\n",
      "Too low!\n",
      "\n",
      "--------------------------------------------------------------------------------\n",
      "\u001b[33magent_guess_number\u001b[0m (to agent_with_number):\n",
      "\n",
      "Is it 75?\n",
      "\n",
      "--------------------------------------------------------------------------------\n",
      "\u001b[33magent_with_number\u001b[0m (to agent_guess_number):\n",
      "\n",
      "How are you doing?\n",
      "\n",
      "--------------------------------------------------------------------------------\n",
      "\u001b[33magent_guess_number\u001b[0m (to agent_with_number):\n",
      "\n",
      "I'm here to help! Just let me know if you want to continue with the number guessing game or if you have other questions.\n",
      "\n",
      "--------------------------------------------------------------------------------\n",
      "\u001b[31m\n",
      ">>>>>>>> USING AUTO REPLY...\u001b[0m\n",
      "\u001b[33magent_with_number\u001b[0m (to agent_guess_number):\n",
      "\n",
      "Is it 75?\n",
      "\n",
      "--------------------------------------------------------------------------------\n",
      "\u001b[33magent_guess_number\u001b[0m (to agent_with_number):\n",
      "\n",
      "Too high!\n",
      "\n",
      "--------------------------------------------------------------------------------\n"
     ]
    }
   ],
   "source": [
    "agent_with_number = ConversableAgent(\n",
    "    \"agent_with_number\",\n",
    "    system_message=\"You are playing a game of guess-my-number. \"\n",
    "    \"In the first game, you have the \"\n",
    "    \"number 53 in your mind, and I will try to guess it. \"\n",
    "    \"If I guess too high, say 'too high', if I guess too low, say 'too low'. \",\n",
    "    llm_config={\"config_list\": [{\"model\": \"gpt-4o-mini\", \"api_key\": os.environ[\"OPENAI_API_KEY\"]}]},\n",
    "    max_consecutive_auto_reply=1,  # maximum number of consecutive auto-replies before asking for human input\n",
    "    is_termination_msg=lambda msg: \"61\" in msg[\"content\"],  # terminate if the number is guessed by the other agent\n",
    "    human_input_mode=\"TERMINATE\",  # ask for human input until the game is terminated\n",
    ")\n",
    "\n",
    "agent_guess_number = ConversableAgent(\n",
    "    \"agent_guess_number\",\n",
    "    system_message=\"I have a number in my mind, and you will try to guess it. \"\n",
    "    \"If I say 'too high', you should guess a lower number. If I say 'too low', \"\n",
    "    \"you should guess a higher number. \",\n",
    "    llm_config={\"config_list\": [{\"model\": \"gpt-4o-mini\", \"api_key\": os.environ[\"OPENAI_API_KEY\"]}]},\n",
    "    human_input_mode=\"NEVER\",\n",
    ")\n",
    "\n",
    "result = agent_with_number.initiate_chat(\n",
    "    agent_guess_number,\n",
    "    message=\"I have a number between 1 and 100. Guess it!\",\n",
    ")"
   ]
  },
  {
   "cell_type": "code",
   "execution_count": 1,
   "metadata": {},
   "outputs": [
    {
     "name": "stderr",
     "output_type": "stream",
     "text": [
      "flaml.automl is not available. Please install flaml[automl] to enable AutoML functionalities.\n"
     ]
    }
   ],
   "source": [
    "import tempfile\n",
    "\n",
    "from autogen import ConversableAgent\n",
    "from autogen.coding import LocalCommandLineCodeExecutor\n",
    "\n",
    "# Create a temporary directory to store the code files.\n",
    "temp_dir = tempfile.TemporaryDirectory()\n",
    "\n",
    "# Create a local command line code executor.\n",
    "executor = LocalCommandLineCodeExecutor(\n",
    "    timeout=10,  # Timeout for each code execution in seconds.\n",
    "    work_dir=temp_dir.name,  # Use the temporary directory to store the code files.\n",
    ")\n",
    "\n",
    "# Create an agent with code executor configuration.\n",
    "code_executor_agent = ConversableAgent(\n",
    "    \"code_executor_agent\",\n",
    "    llm_config=False,  # Turn off LLM for this agent.\n",
    "    code_execution_config={\"executor\": executor},  # Use the local command line code executor.\n",
    "    human_input_mode=\"ALWAYS\",  # Always take human input for this agent for safety.\n",
    ")"
   ]
  },
  {
   "cell_type": "code",
   "execution_count": 4,
   "metadata": {},
   "outputs": [
    {
     "name": "stdout",
     "output_type": "stream",
     "text": [
      "\u001b[31m\n",
      ">>>>>>>> NO HUMAN INPUT RECEIVED.\u001b[0m\n",
      "\u001b[31m\n",
      ">>>>>>>> USING AUTO REPLY...\u001b[0m\n",
      "\u001b[31m\n",
      ">>>>>>>> EXECUTING CODE BLOCK (inferred language is python)...\u001b[0m\n",
      "exitcode: 0 (execution succeeded)\n",
      "Code output: Scatter plot saved to scatter.png\n",
      "\n"
     ]
    }
   ],
   "source": [
    "message_with_code_block = \"\"\"This is a message with code block.\n",
    "The code block is below:\n",
    "```python\n",
    "import numpy as np\n",
    "import matplotlib.pyplot as plt\n",
    "x = np.random.randint(0, 100, 100)\n",
    "y = np.random.randint(0, 100, 100)\n",
    "plt.scatter(x, y)\n",
    "plt.savefig('scatter.png')\n",
    "print('Scatter plot saved to scatter.png')\n",
    "```\n",
    "This is the end of the message.\n",
    "\"\"\"\n",
    "\n",
    "# Generate a reply for the given code.\n",
    "reply = code_executor_agent.generate_reply(messages=[{\"role\": \"user\", \"content\": message_with_code_block}])\n",
    "print(reply)"
   ]
  },
  {
   "cell_type": "code",
   "execution_count": 3,
   "metadata": {},
   "outputs": [],
   "source": [
    "! pip install -qqq matplotlib numpy"
   ]
  },
  {
   "cell_type": "code",
   "execution_count": 5,
   "metadata": {},
   "outputs": [
    {
     "name": "stdout",
     "output_type": "stream",
     "text": [
      "['tmp_code_e24bf32d4a21990fb9e4b5eb889ebe5a.py', 'scatter.png']\n"
     ]
    }
   ],
   "source": [
    "import os\n",
    "\n",
    "print(os.listdir(temp_dir.name))\n",
    "# We can see the output scatter.png and the code file generated by the agent."
   ]
  },
  {
   "cell_type": "code",
   "execution_count": 7,
   "metadata": {},
   "outputs": [],
   "source": [
    "temp_dir.cleanup()"
   ]
  },
  {
   "cell_type": "code",
   "execution_count": 13,
   "metadata": {},
   "outputs": [],
   "source": [
    "from typing import Dict, List\n",
    "def fetch_restaurant_data(restaurant_name: str) -> Dict[str, List[str]]:\n",
    "    # This function takes in a restaurant name and returns the reviews for that restaurant. \n",
    "    # The output should be a dictionary with the key being the restaurant name and the value being a list of reviews for that restaurant.\n",
    "    # The \"data fetch agent\" should have access to this function signature, and it should be able to suggest this as a function call. \n",
    "    # Example:\n",
    "    # > fetch_restaurant_data(\"Applebee's\")\n",
    "    # {\"Applebee's\": [\"The food at Applebee's was average, with nothing particularly standing out.\", ...]}\n",
    "    restaurant_reviews = {}\n",
    "    \n",
    "    with open(\"restaurant-data.txt\", \"r\") as f:\n",
    "        lines = f.readlines()\n",
    "        \n",
    "    for line in lines:\n",
    "        name = line.split(\".\", 1)[0]\n",
    "        if name != restaurant_name:\n",
    "            continue\n",
    "        review = line.split(\".\", 1)[1]\n",
    "        if name not in restaurant_reviews:\n",
    "            restaurant_reviews[name] = []\n",
    "        restaurant_reviews[name].append(review)\n",
    "        \n",
    "    return restaurant_reviews"
   ]
  },
  {
   "cell_type": "code",
   "execution_count": 15,
   "metadata": {},
   "outputs": [
    {
     "data": {
      "text/plain": [
       "{'Taco Bell': [' The food at Taco Bell was bad, with flavors that seemed artificial. The customer service was average, neither particularly helpful nor rude.\\n',\n",
       "  ' The food was bad, with flavors that were off and textures that were strange. The service was average, neither particularly good nor terrible.\\n',\n",
       "  ' The food was bad and left me feeling queasy. The customer service was forgettable, neither good nor terrible.\\n',\n",
       "  ' The food at Taco Bell was bad, with flavors that seemed artificial and unappealing. The service was average, neither particularly good nor terrible.\\n',\n",
       "  ' The food was bad, but the service was average. The tacos were unpleasant and lacked flavor, though the staff was polite enough.\\n',\n",
       "  ' The food at Taco Bell was bad, with flavors that seemed artificial. The service was average, neither impressive nor terrible.\\n',\n",
       "  ' The food at Taco Bell was bad, with flavors that felt artificial and unappetizing. The customer service was average, neither adding to nor detracting from the experience.\\n',\n",
       "  ' The food at Taco Bell was bad, with bland flavors and questionable quality. The customer service was average, neither particularly helpful nor offensive.\\n',\n",
       "  ' The food at Taco Bell was bad, with flavors that seemed artificial and unappealing. The customer service was average, neither particularly good nor notably poor.\\n',\n",
       "  ' The food at Taco Bell was bad, with items tasting stale and lukewarm. Customer service was average, neither impressive nor terrible.\\n',\n",
       "  \" The food at Taco Bell was bad, with flavors that seemed artificial and unappealing. The service was average, but couldn't make up for the disappointing meal.\\n\",\n",
       "  ' The food at Taco Bell was bad, with greasy and unappetizing options. Customer service was uninspiring, neither particularly good nor terrible.\\n',\n",
       "  ' The food at Taco Bell was bad, lacking in flavor and freshness. The customer service was uninspiring, neither terrible nor impressive.\\n',\n",
       "  \" The food at Taco Bell was bad, with flavors that didn't quite hit the mark. The customer service was average, neither impressive nor terrible.\\n\",\n",
       "  \" The food at Taco Bell was bad, with soggy tacos and bland flavors. The customer service was average, but couldn't make up for the offensive quality of the food.\\n\",\n",
       "  ' The food at Taco Bell was bad, lacking in flavor and quality. The customer service was average, neither impressive nor terrible.\\n',\n",
       "  ' The food was bad, with soggy tacos and bland flavors. The service was uninspiring, neither terrible nor impressive.\\n',\n",
       "  \" The food was bad, with soggy tacos and bland flavors. The service was average, but couldn't make up for the disappointing meal.\\n\",\n",
       "  ' The food at Taco Bell was bad, with questionable quality and taste. The customer service was average, neither impressive nor terrible.\\n',\n",
       "  ' The food at Taco Bell was bad, lacking in flavor and quality. The customer service was average, neither impressive nor particularly disappointing.\\n',\n",
       "  \" The food at Taco Bell was bad, with questionable quality ingredients. The customer service was average, but couldn't make up for the offensive taste of the food.\\n\",\n",
       "  ' The food at Taco Bell was surprisingly enjoyable, with tasty tacos and burritos. The customer service was average, with a bit of a wait during peak hours.\\n',\n",
       "  ' The food at Taco Bell was bad, with flavors that seemed artificial and unappealing. The customer service was average, neither impressive nor terrible.\\n',\n",
       "  \" The food at Taco Bell was bad, lacking in flavor and quality. The customer service was average, but couldn't make up for the unpleasant dining experience.\\n\",\n",
       "  ' The food at Taco Bell was bad, with questionable quality and taste. The customer service was uninspiring, neither terrible nor impressive.\\n',\n",
       "  ' The food at Taco Bell was bad, lacking in flavor and quality. The customer service was uninspiring, neither terrible nor impressive.\\n',\n",
       "  ' The food at Taco Bell was bad, with bland flavors and questionable quality. The service was average, neither impressive nor terrible.\\n',\n",
       "  ' The food at Taco Bell was bad, lacking in flavor and quality. The customer service was uninspiring, neither particularly good nor terrible.\\n',\n",
       "  ' The food at Taco Bell was bad, with soggy tacos and bland flavors. Customer service was uninspiring, neither good nor terrible.\\n',\n",
       "  ' The food at Taco Bell was bad, with greasy and unappetizing options. The customer service was average, neither impressive nor terrible.\\n',\n",
       "  \" The food at Taco Bell was bad, with stale tortillas and bland fillings. The customer service was average, but couldn't make up for the unpleasant meal.\\n\",\n",
       "  ' The food at Taco Bell was bad, with bland flavors and questionable quality. The service was average, neither impressive nor terrible.\\n',\n",
       "  ' The food at Taco Bell was bad, with greasy and unappetizing options. Customer service was uninspiring, neither particularly good nor terrible.\\n',\n",
       "  ' The food at Taco Bell was bad, with low-quality ingredients and poor taste. The customer service was uninspiring, neither terrible nor impressive.\\n',\n",
       "  ' The food at Taco Bell was bad, with soggy tacos and bland flavors. Customer service was uninspiring, neither terrible nor impressive.\\n',\n",
       "  ' The food at Taco Bell was bad, with flavors that felt artificial and uninspired. The customer service was average, neither notably good nor terrible.\\n',\n",
       "  \" The food at Taco Bell was bad, lacking in flavor and quality. The customer service was average, but couldn't make up for the unpleasant meal.\\n\",\n",
       "  ' The food at Taco Bell was bad, with flavors that felt artificial and unappetizing. The customer service was average, neither enhancing nor detracting from the experience.\\n',\n",
       "  ' The food at Taco Bell was bad, with bland flavors and questionable quality. Customer service was average, neither impressive nor terrible.\\n',\n",
       "  ' The food at Taco Bell was surprisingly enjoyable, with tasty and affordable Mexican-inspired dishes. The customer service was average, with some wait times during peak hours.\\n']}"
      ]
     },
     "execution_count": 15,
     "metadata": {},
     "output_type": "execute_result"
    }
   ],
   "source": [
    "fetch_restaurant_data(\"Taco Bell\")"
   ]
  },
  {
   "cell_type": "code",
   "execution_count": 13,
   "metadata": {},
   "outputs": [],
   "source": [
    "from typing import Dict, List, Annotated\n",
    "import re\n",
    "def fetch_restaurant_data(restaurant_name: Annotated[str, \"The name of the restaurant\"]) -> Dict[str, List[str]]:\n",
    "    # This function takes in a restaurant name and returns the reviews for that restaurant. \n",
    "    # The output should be a dictionary with the key being the restaurant name and the value being a list of reviews for that restaurant.\n",
    "    # The \"data fetch agent\" should have access to this function signature, and it should be able to suggest this as a function call. \n",
    "    # Example:\n",
    "    # > fetch_restaurant_data(\"Applebee's\")\n",
    "    # {\"Applebee's\": [\"The food at Applebee's was average, with nothing particularly standing out.\", ...]}\n",
    "    restaurant_reviews = {}\n",
    "    restaurant_name = re.sub(r\"[\\s\\-]\", \"\", restaurant_name.lower())\n",
    "    with open(\"restaurant-data.txt\", \"r\") as f:\n",
    "        lines = f.readlines()\n",
    "        \n",
    "    for line in lines:\n",
    "        name = line.split(\".\", 1)[0]\n",
    "        name = re.sub(r\"[\\s\\-]\", \"\", name.lower())\n",
    "        print(name)\n",
    "        if name != restaurant_name:\n",
    "            continue\n",
    "        review = line.split(\".\", 1)[1]\n",
    "        if name not in restaurant_reviews:\n",
    "            restaurant_reviews[name] = []\n",
    "        restaurant_reviews[name].append(review)\n",
    "        \n",
    "    return restaurant_reviews"
   ]
  },
  {
   "cell_type": "code",
   "execution_count": 16,
   "metadata": {},
   "outputs": [
    {
     "data": {
      "text/plain": [
       "<function __main__.fetch_restaurant_data(restaurant_name: Annotated[str, 'The name of the restaurant']) -> Dict[str, List[str]]>"
      ]
     },
     "execution_count": 16,
     "metadata": {},
     "output_type": "execute_result"
    }
   ],
   "source": [
    "import os\n",
    "from autogen import ConversableAgent\n",
    "entrypoint_agent_system_message = \"You are a helpful AI assistant. \"\n",
    "\"You can help users find information about curtain restaurants in the database. \" \n",
    "# example LLM config for the entrypoint agent\n",
    "llm_config = {\"config_list\": [{\"model\": \"gpt-4o-mini\", \"api_key\": os.environ.get(\"OPENAI_API_KEY\")}]}\n",
    "# the main entrypoint/supervisor agent\n",
    "data_fetch_agent = ConversableAgent(\n",
    "    \"Data Fetch Agent\", \n",
    "    system_message=entrypoint_agent_system_message, \n",
    "    llm_config=llm_config,\n",
    "    max_consecutive_auto_reply=1,\n",
    "    human_input_mode=\"NEVER\",  # Never ask for human input.\n",
    "    silent = True\n",
    ")\n",
    "entrypoint_agent = ConversableAgent(\n",
    "    name=\"User\",\n",
    "    llm_config=False,\n",
    "    is_termination_msg=lambda msg: msg.get(\"content\") is not None and \"TERMINATE\" in msg[\"content\"],\n",
    "    human_input_mode=\"NEVER\",\n",
    "    silent = True\n",
    ")\n",
    "data_fetch_agent.register_for_llm(name=\"fetch_reviews_for_restaurant\", description=\"Fetches the reviews for a specific restaurant.\")(fetch_restaurant_data)\n",
    "entrypoint_agent.register_for_execution(name=\"fetch_reviews_for_restaurant\")(fetch_restaurant_data)"
   ]
  },
  {
   "cell_type": "code",
   "execution_count": 17,
   "metadata": {},
   "outputs": [
    {
     "name": "stdout",
     "output_type": "stream",
     "text": [
      "\u001b[35m\n",
      ">>>>>>>> EXECUTING FUNCTION fetch_reviews_for_restaurant...\u001b[0m\n"
     ]
    }
   ],
   "source": [
    "chat_result = entrypoint_agent.initiate_chat(data_fetch_agent, message=\"What is the overall score for taco bell?\", max_turns=2)"
   ]
  },
  {
   "cell_type": "code",
   "execution_count": 12,
   "metadata": {},
   "outputs": [
    {
     "name": "stdout",
     "output_type": "stream",
     "text": [
      "Taco Bell\n",
      "{'tacobell': [' The food at Taco Bell was bad, with flavors that seemed artificial. The customer service was average, neither particularly helpful nor rude.\\n', ' The food was bad, with flavors that were off and textures that were strange. The service was average, neither particularly good nor terrible.\\n', ' The food was bad and left me feeling queasy. The customer service was forgettable, neither good nor terrible.\\n', ' The food at Taco Bell was bad, with flavors that seemed artificial and unappealing. The service was average, neither particularly good nor terrible.\\n', ' The food was bad, but the service was average. The tacos were unpleasant and lacked flavor, though the staff was polite enough.\\n', ' The food at Taco Bell was bad, with flavors that seemed artificial. The service was average, neither impressive nor terrible.\\n', ' The food at Taco Bell was bad, with flavors that felt artificial and unappetizing. The customer service was average, neither adding to nor detracting from the experience.\\n', ' The food at Taco Bell was bad, with bland flavors and questionable quality. The customer service was average, neither particularly helpful nor offensive.\\n', ' The food at Taco Bell was bad, with flavors that seemed artificial and unappealing. The customer service was average, neither particularly good nor notably poor.\\n', ' The food at Taco Bell was bad, with items tasting stale and lukewarm. Customer service was average, neither impressive nor terrible.\\n', \" The food at Taco Bell was bad, with flavors that seemed artificial and unappealing. The service was average, but couldn't make up for the disappointing meal.\\n\", ' The food at Taco Bell was bad, with greasy and unappetizing options. Customer service was uninspiring, neither particularly good nor terrible.\\n', ' The food at Taco Bell was bad, lacking in flavor and freshness. The customer service was uninspiring, neither terrible nor impressive.\\n', \" The food at Taco Bell was bad, with flavors that didn't quite hit the mark. The customer service was average, neither impressive nor terrible.\\n\", \" The food at Taco Bell was bad, with soggy tacos and bland flavors. The customer service was average, but couldn't make up for the offensive quality of the food.\\n\", ' The food at Taco Bell was bad, lacking in flavor and quality. The customer service was average, neither impressive nor terrible.\\n', ' The food was bad, with soggy tacos and bland flavors. The service was uninspiring, neither terrible nor impressive.\\n', \" The food was bad, with soggy tacos and bland flavors. The service was average, but couldn't make up for the disappointing meal.\\n\", ' The food at Taco Bell was bad, with questionable quality and taste. The customer service was average, neither impressive nor terrible.\\n', ' The food at Taco Bell was bad, lacking in flavor and quality. The customer service was average, neither impressive nor particularly disappointing.\\n', \" The food at Taco Bell was bad, with questionable quality ingredients. The customer service was average, but couldn't make up for the offensive taste of the food.\\n\", ' The food at Taco Bell was surprisingly enjoyable, with tasty tacos and burritos. The customer service was average, with a bit of a wait during peak hours.\\n', ' The food at Taco Bell was bad, with flavors that seemed artificial and unappealing. The customer service was average, neither impressive nor terrible.\\n', \" The food at Taco Bell was bad, lacking in flavor and quality. The customer service was average, but couldn't make up for the unpleasant dining experience.\\n\", ' The food at Taco Bell was bad, with questionable quality and taste. The customer service was uninspiring, neither terrible nor impressive.\\n', ' The food at Taco Bell was bad, lacking in flavor and quality. The customer service was uninspiring, neither terrible nor impressive.\\n', ' The food at Taco Bell was bad, with bland flavors and questionable quality. The service was average, neither impressive nor terrible.\\n', ' The food at Taco Bell was bad, lacking in flavor and quality. The customer service was uninspiring, neither particularly good nor terrible.\\n', ' The food at Taco Bell was bad, with soggy tacos and bland flavors. Customer service was uninspiring, neither good nor terrible.\\n', ' The food at Taco Bell was bad, with greasy and unappetizing options. The customer service was average, neither impressive nor terrible.\\n', \" The food at Taco Bell was bad, with stale tortillas and bland fillings. The customer service was average, but couldn't make up for the unpleasant meal.\\n\", ' The food at Taco Bell was bad, with bland flavors and questionable quality. The service was average, neither impressive nor terrible.\\n', ' The food at Taco Bell was bad, with greasy and unappetizing options. Customer service was uninspiring, neither particularly good nor terrible.\\n', ' The food at Taco Bell was bad, with low-quality ingredients and poor taste. The customer service was uninspiring, neither terrible nor impressive.\\n', ' The food at Taco Bell was bad, with soggy tacos and bland flavors. Customer service was uninspiring, neither terrible nor impressive.\\n', ' The food at Taco Bell was bad, with flavors that felt artificial and uninspired. The customer service was average, neither notably good nor terrible.\\n', \" The food at Taco Bell was bad, lacking in flavor and quality. The customer service was average, but couldn't make up for the unpleasant meal.\\n\", ' The food at Taco Bell was bad, with flavors that felt artificial and unappetizing. The customer service was average, neither enhancing nor detracting from the experience.\\n', ' The food at Taco Bell was bad, with bland flavors and questionable quality. Customer service was average, neither impressive nor terrible.\\n', ' The food at Taco Bell was surprisingly enjoyable, with tasty and affordable Mexican-inspired dishes. The customer service was average, with some wait times during peak hours.\\n']}\n"
     ]
    }
   ],
   "source": [
    "# Get the chat history.\n",
    "import pprint\n",
    "# pprint.pprint(chat_result.chat_history)\n",
    "import json\n",
    "restaurant_name = json.loads((chat_result.chat_history[1]\n",
    "                   .get(\"tool_calls\", [{}])[0]\n",
    "                   .get(\"function\", {})\n",
    "                   .get(\"arguments\", {})))\n",
    "name = restaurant_name[\"restaurant_name\"]\n",
    "print(name)\n",
    "reviews = json.loads(chat_result.chat_history[-1][\"content\"])\n",
    "print(reviews)\n",
    "# reviews = reviews[name]\n",
    "# print(reviews)\n",
    "# print(len(reviews))"
   ]
  },
  {
   "cell_type": "code",
   "execution_count": 47,
   "metadata": {},
   "outputs": [
    {
     "name": "stdout",
     "output_type": "stream",
     "text": [
      "\u001b[33mUser\u001b[0m (to Review Analysis Agent):\n",
      "\n",
      " The food at Taco Bell was bad, with flavors that seemed artificial. The customer service was average, neither particularly helpful nor rude.\n",
      "\n",
      "\n",
      "--------------------------------------------------------------------------------\n"
     ]
    },
    {
     "name": "stdout",
     "output_type": "stream",
     "text": [
      "\u001b[33mReview Analysis Agent\u001b[0m (to User):\n",
      "\n",
      "\t•\tfood_score: 2\n",
      "\t•\tcustomer_service_score: 3\n",
      "\n",
      "--------------------------------------------------------------------------------\n",
      "\u001b[33mUser\u001b[0m (to Review Analysis Agent):\n",
      "\n",
      "\n",
      "\n",
      "--------------------------------------------------------------------------------\n",
      "\t•\tfood_score: 2\n",
      "\t•\tcustomer_service_score: 3\n"
     ]
    }
   ],
   "source": [
    "review_analysis_prompt = \"\"\"\n",
    "Analyze the restaurant review to extract two scores: food_score and customer_service_score, both from 1 to 5.\n",
    "\n",
    "Look for two specific adjectives in the review:\n",
    "\n",
    "\t•\tFood: adjectives that describe the food quality.\n",
    "\t•\tCustomer service: adjectives that describe the service quality.\n",
    "\n",
    "Use the following scoring system based on the adjectives:\n",
    "\n",
    "\t•\t1/5: awful, horrible, disgusting\n",
    "\t•\t2/5: bad, unpleasant, offensive\n",
    "\t•\t3/5: average, uninspiring, forgettable\n",
    "\t•\t4/5: good, enjoyable, satisfying\n",
    "\t•\t5/5: awesome, incredible, amazing\n",
    "\n",
    "Output format:\n",
    "\n",
    "\t•\tfood_score: (score)\n",
    "\t•\tcustomer_service_score: (score)\n",
    "\n",
    "Example:\n",
    "\n",
    "Review:\n",
    "\n",
    "\t“The food was average, but the customer service was unpleasant.”\n",
    "\n",
    "Output:\n",
    "\n",
    "\t•\tfood_score: 3\n",
    "\t•\tcustomer_service_score: 2\n",
    "\n",
    "Now, analyze this review:\n",
    "\"\"\"\n",
    "\n",
    "review_analysis_agent = ConversableAgent(\n",
    "    name=\"Review Analysis Agent\",\n",
    "    system_message=review_analysis_prompt,\n",
    "    llm_config=llm_config,\n",
    "    max_consecutive_auto_reply=1,\n",
    "    human_input_mode=\"NEVER\",\n",
    ")\n",
    "\n",
    "review_1 = reviews[0]\n",
    "review_result = entrypoint_agent.initiate_chat(review_analysis_agent, message=review_1)\n",
    "result = review_result.chat_history[1][\"content\"]\n",
    "print(result)"
   ]
  },
  {
   "cell_type": "code",
   "execution_count": 37,
   "metadata": {},
   "outputs": [],
   "source": [
    "import math\n",
    "def calculate_overall_score(restaurant_name: str, food_scores: List[int], customer_service_scores: List[int]) -> Dict[str, float]:\n",
    "    # TODO\n",
    "    # This function takes in a restaurant name, a list of food scores from 1-5, and a list of customer service scores from 1-5\n",
    "    # The output should be a score between 0 and 10, which is computed as the following:\n",
    "    # SUM(sqrt(food_scores[i]**2 * customer_service_scores[i]) * 1/(N * sqrt(125)) * 10\n",
    "    # The above formula is a geometric mean of the scores, which penalizes food quality more than customer service. \n",
    "    # Example:\n",
    "    # > calculate_overall_score(\"Applebee's\", [1, 2, 3, 4, 5], [1, 2, 3, 4, 5])\n",
    "    # {\"Applebee's\": 5.04}\n",
    "    # NOTE: be sure to round the score to 2 decimal places.\n",
    "    if len(food_scores) != len(customer_service_scores):\n",
    "        raise ValueError(\"The number of food scores and customer service scores must be the same.\")\n",
    "    \n",
    "    n = len(food_scores)\n",
    "    score = 0\n",
    "    \n",
    "    for i in range(n):\n",
    "        score += math.sqrt(food_scores[i]**2 * customer_service_scores[i])\n",
    "        \n",
    "    score *= 1/(n * math.sqrt(125)) * 10\n",
    "    \n",
    "    return {restaurant_name: round(score, 2)}"
   ]
  },
  {
   "cell_type": "code",
   "execution_count": 42,
   "metadata": {},
   "outputs": [
    {
     "data": {
      "text/plain": [
       "<function __main__.calculate_overall_score(restaurant_name: str, food_scores: List[int], customer_service_scores: List[int]) -> Dict[str, float]>"
      ]
     },
     "execution_count": 42,
     "metadata": {},
     "output_type": "execute_result"
    }
   ],
   "source": [
    "scoring_prompt = \"\"\"\n",
    "        Calculate the overall score for the restaurant based on the food and customer service scores.\n",
    "    \"\"\"\n",
    "\n",
    "scoring_agent = ConversableAgent(\n",
    "    name=\"Scoring Agent\",\n",
    "    system_message=scoring_prompt,\n",
    "    llm_config=llm_config,\n",
    "    max_consecutive_auto_reply=1,\n",
    "    human_input_mode=\"NEVER\",\n",
    ")\n",
    "\n",
    "scoring_agent.register_for_llm(name=\"calculate_overall_score\", description=\"Calculate the overall score based on the review analysing results.\")(calculate_overall_score)\n",
    "entrypoint_agent.register_for_execution(name=\"calculate_overall_score\")(calculate_overall_score)"
   ]
  },
  {
   "cell_type": "code",
   "execution_count": 52,
   "metadata": {},
   "outputs": [
    {
     "name": "stdout",
     "output_type": "stream",
     "text": [
      "\u001b[33mUser\u001b[0m (to Scoring Agent):\n",
      "\n",
      "Taco Bell: \t•\tfood_score: 2\n",
      "\t•\tcustomer_service_score: 3\n",
      "\n",
      "--------------------------------------------------------------------------------\n",
      "\u001b[33mScoring Agent\u001b[0m (to User):\n",
      "\n",
      "\u001b[32m***** Suggested tool call (call_R6vOVPanLOKqaIMFYqFwAyDi): calculate_overall_score *****\u001b[0m\n",
      "Arguments: \n",
      "{\"restaurant_name\":\"Taco Bell\",\"food_scores\":[2],\"customer_service_scores\":[3]}\n",
      "\u001b[32m****************************************************************************************\u001b[0m\n",
      "\n",
      "--------------------------------------------------------------------------------\n",
      "\u001b[35m\n",
      ">>>>>>>> EXECUTING FUNCTION calculate_overall_score...\u001b[0m\n",
      "\u001b[33mUser\u001b[0m (to Scoring Agent):\n",
      "\n",
      "\u001b[33mUser\u001b[0m (to Scoring Agent):\n",
      "\n",
      "\u001b[32m***** Response from calling tool (call_R6vOVPanLOKqaIMFYqFwAyDi) *****\u001b[0m\n",
      "{\"Taco Bell\": 3.1}\n",
      "\u001b[32m**********************************************************************\u001b[0m\n",
      "\n",
      "--------------------------------------------------------------------------------\n",
      "{\"Taco Bell\": 3.1}\n",
      "3.1\n",
      "3.11\n"
     ]
    }
   ],
   "source": [
    "score_result = entrypoint_agent.initiate_chat(scoring_agent, message=name + \": \" + result, max_turns=2)\n",
    "print(score_result.chat_history[-1][\"content\"])\n",
    "score = json.loads(score_result.chat_history[-1][\"content\"]).get(name)\n",
    "print(score)\n",
    "score += 0.01\n",
    "print(score)"
   ]
  },
  {
   "cell_type": "code",
   "execution_count": 53,
   "metadata": {},
   "outputs": [
    {
     "data": {
      "text/plain": [
       "0"
      ]
     },
     "execution_count": 53,
     "metadata": {},
     "output_type": "execute_result"
    }
   ],
   "source": [
    "import diskcache\n",
    "\n",
    "# 清除缓存\n",
    "cache = diskcache.Cache('cache')\n",
    "cache.clear()"
   ]
  },
  {
   "cell_type": "code",
   "execution_count": null,
   "metadata": {},
   "outputs": [],
   "source": []
  }
 ],
 "metadata": {
  "kernelspec": {
   "display_name": "294",
   "language": "python",
   "name": "python3"
  },
  "language_info": {
   "codemirror_mode": {
    "name": "ipython",
    "version": 3
   },
   "file_extension": ".py",
   "mimetype": "text/x-python",
   "name": "python",
   "nbconvert_exporter": "python",
   "pygments_lexer": "ipython3",
   "version": "3.12.6"
  }
 },
 "nbformat": 4,
 "nbformat_minor": 2
}
